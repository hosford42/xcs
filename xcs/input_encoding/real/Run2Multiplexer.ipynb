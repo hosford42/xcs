{
 "cells": [
  {
   "cell_type": "code",
   "execution_count": 1,
   "metadata": {},
   "outputs": [
    {
     "name": "stdout",
     "output_type": "stream",
     "text": [
      "['/Users/dacostlu/dev/crim-xcs', '', '/anaconda2/envs/python3.6/lib/python36.zip', '/anaconda2/envs/python3.6/lib/python3.6', '/anaconda2/envs/python3.6/lib/python3.6/lib-dynload', '/anaconda2/envs/python3.6/lib/python3.6/site-packages', '/anaconda2/envs/python3.6/lib/python3.6/site-packages/cycler-0.10.0-py3.6.egg', '/Users/dacostlu/dev/gym', '/anaconda2/envs/python3.6/lib/python3.6/site-packages/IPython/extensions', '/Users/dacostlu/.ipython']\n"
     ]
    }
   ],
   "source": [
    "import sys\n",
    "sys.path.insert(0, \"/Users/dacostlu/dev/crim-xcs\")\n",
    "print(sys.path)"
   ]
  },
  {
   "cell_type": "code",
   "execution_count": 21,
   "metadata": {},
   "outputs": [],
   "source": [
    "import logging\n",
    "import time\n",
    "import pickle\n",
    "import pathlib\n",
    "import numpy as np\n",
    "\n",
    "from xcs.algorithms.xcs import XCSAlgorithm\n",
    "from xcs.framework import ClassifierSet\n",
    "\n",
    "from xcs.input_encoding.real.scenarios import MUXProblem, MUXScenarioObserver"
   ]
  },
  {
   "cell_type": "code",
   "execution_count": null,
   "metadata": {},
   "outputs": [],
   "source": [
    "# Setup logging so we can see the test run as it progresses.\n",
    "logging.basicConfig(level=logging.INFO)\n",
    "logger = logging.getLogger(__name__)\n",
    "# or:\n",
    "# logging.root.setLevel(logging.INFO)\n",
    "\n",
    "# Create the scenario instance\n",
    "mux_problem = MUXProblem(training_cycles=14000, address_size=3)\n",
    "\n",
    "# Wrap the scenario instance in an observer so progress gets logged,\n",
    "mux_scenario = MUXScenarioObserver(mux_problem)\n",
    "# mux_scenario = ScenarioObserver(mux_problem)\n",
    "# and pass it on to the test() function.\n",
    "# xcs.test(scenario=bowling_scenario)\n",
    "# or do the whole thing in a detailed way:\n",
    "\n",
    "algorithm = XCSAlgorithm()\n",
    "# parameters as of original paper:\n",
    "algorithm.max_population_size = 800          # N\n",
    "algorithm.learning_rate = .2                # beta\n",
    "algorithm.accuracy_coefficient = .1          # alpha # page 5 of http://eprints.uwe.ac.uk/5887/1/106365603322365315.pdf\n",
    "algorithm.error_threshold = 10              # epsilon_0\n",
    "algorithm.accuracy_power = 5                 # nu # TODO: is this 'n'?\n",
    "algorithm.ga_threshold = 12                  # theta_GA\n",
    "algorithm.crossover_probability = .8        # chi\n",
    "algorithm.mutation_probability = .04         # mu\n",
    "algorithm.deletion_threshold = 20            # theta_del # page 5 of http://eprints.uwe.ac.uk/5887/1/106365603322365315.pdf\n",
    "algorithm.fitness_threshold = .1             # delta # page 5 of http://eprints.uwe.ac.uk/5887/1/106365603322365315.pdf\n",
    "algorithm.subsumption_threshold = 20         # theta_sub # page 5 of http://eprints.uwe.ac.uk/5887/1/106365603322365315.pdf\n",
    "algorithm.initial_prediction = 10        # p_I # page 5 of http://eprints.uwe.ac.uk/5887/1/106365603322365315.pdf\n",
    "algorithm.initial_error = 0             # epsilon_I # page 5 of http://eprints.uwe.ac.uk/5887/1/106365603322365315.pdf\n",
    "algorithm.initial_fitness = .01           # F_I # page 5 of http://eprints.uwe.ac.uk/5887/1/106365603322365315.pdf\n",
    "algorithm.minimum_actions = 2             # theta_mna # page 5 of http://eprints.uwe.ac.uk/5887/1/106365603322365315.pdf\n",
    "# algorithm.error_threshold = 1.0              # epsilon_0  # TODO: is this s_0 ?\n",
    "# we want that, on average, we present exploitation and exploration problems:\n",
    "algorithm.exploration_probability = .5       # p_exp\n",
    "\n",
    "# these parameters come from page 5 of http://eprints.uwe.ac.uk/5887/1/106365603322365315.pdf:\n",
    "algorithm.do_ga_subsumption = True\n",
    "algorithm.do_action_set_subsumption = False\n",
    "\n",
    "\n",
    "# discount_factor = .71              # gamma\n",
    "# fitness_threshold = .1             # delta\n",
    "# subsumption_threshold = 20         # theta_sub\n",
    "# wildcard_probability = .33         # P_#\n",
    "\n",
    "# Create the classifier system from the algorithm.\n",
    "model = ClassifierSet(algorithm, mux_scenario.get_possible_actions())\n",
    "start_time = time.time()\n",
    "model.run(mux_scenario, learn=True)\n",
    "end_time = time.time()\n",
    "\n",
    "# logger.info('Classifiers:\\n\\n%s\\n', model)\n",
    "logger.info(\"Total time: %.5f seconds\", end_time - start_time)\n"
   ]
  },
  {
   "cell_type": "code",
   "execution_count": 31,
   "metadata": {},
   "outputs": [
    {
     "name": "stdout",
     "output_type": "stream",
     "text": [
      "file '/tmp/luis/tests/exploit_successes_3.txt' has a list with 9951 elements\n",
      "file '/tmp/luis/tests/exploit_successes_2.txt' has a list with 9951 elements\n",
      "file '/tmp/luis/tests/exploit_successes_1.txt' has a list with 9951 elements\n"
     ]
    }
   ],
   "source": [
    "p = pathlib.Path('/tmp/luis/tests')\n",
    "\n",
    "all_results = []\n",
    "for filename in list(p.glob('exploit_successes*.txt')):\n",
    "    with open (filename, 'rb') as fp:\n",
    "        successes = pickle.load(fp)\n",
    "        print(\"file '%s' has a list with %d elements\" % (filename, len(successes)))\n",
    "        all_results.append(successes)\n"
   ]
  },
  {
   "cell_type": "code",
   "execution_count": 32,
   "metadata": {},
   "outputs": [],
   "source": [
    "%matplotlib inline\n",
    "\n",
    "import matplotlib\n",
    "import numpy as np\n",
    "import matplotlib.pyplot as plt"
   ]
  },
  {
   "cell_type": "code",
   "execution_count": 33,
   "metadata": {},
   "outputs": [
    {
     "data": {
      "image/png": "[encoded data removed]",
      "text/plain": [
       "<Figure size 432x288 with 1 Axes>"
      ]
     },
     "metadata": {},
     "output_type": "display_data"
    }
   ],
   "source": [
    "successes = np.mean(all_results, axis=0)\n",
    "plt.plot(list(map(lambda x: x / 50, successes)))\n",
    "plt.title('Percentage of Success on Exploit Problems\\nMean on %d replications' % (len(all_results)))\n",
    "plt.xlabel(\"Exploit problems\")\n",
    "plt.ylabel(\"Mean on %d replications\" % (len(all_results)))\n",
    "plt.show()"
   ]
  },
  {
   "cell_type": "code",
   "execution_count": null,
   "metadata": {},
   "outputs": [],
   "source": []
  }
 ],
 "metadata": {
  "kernelspec": {
   "display_name": "Python [conda env:python3.6]",
   "language": "python",
   "name": "conda-env-python3.6-py"
  },
  "language_info": {
   "codemirror_mode": {
    "name": "ipython",
    "version": 3
   },
   "file_extension": ".py",
   "mimetype": "text/x-python",
   "name": "python",
   "nbconvert_exporter": "python",
   "pygments_lexer": "ipython3",
   "version": "3.6.5"
  }
 },
 "nbformat": 4,
 "nbformat_minor": 2
}
